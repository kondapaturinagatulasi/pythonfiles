{
 "cells": [
  {
   "cell_type": "markdown",
   "metadata": {},
   "source": [
    "## *reverse of a num*"
   ]
  },
  {
   "cell_type": "code",
   "execution_count": 13,
   "metadata": {},
   "outputs": [
    {
     "name": "stdout",
     "output_type": "stream",
     "text": [
      "enter any num2020\n",
      "0202\n"
     ]
    },
    {
     "data": {
      "text/plain": [
       "int"
      ]
     },
     "execution_count": 13,
     "metadata": {},
     "output_type": "execute_result"
    }
   ],
   "source": [
    "n=(input(\"enter any num\"))\n",
    "t=n[::-1]\n",
    "print(t)\n",
    "t=int(t)\n",
    "type(t)"
   ]
  },
  {
   "cell_type": "markdown",
   "metadata": {},
   "source": [
    "## *special num r not*"
   ]
  },
  {
   "cell_type": "code",
   "execution_count": 1,
   "metadata": {},
   "outputs": [
    {
     "name": "stdout",
     "output_type": "stream",
     "text": [
      "enter a num59\n",
      "special num\n"
     ]
    }
   ],
   "source": [
    "n=int(input(\"enter a num\"))\n",
    "if n<99:\n",
    "    c=int(n/10)\n",
    "    r=int(n%10)\n",
    "    s=c+r\n",
    "    m=c*r\n",
    "    r=s+m\n",
    "if n==r:\n",
    "    print(\"special num\") \n",
    "else:\n",
    "    print(\"not a special num\")"
   ]
  },
  {
   "cell_type": "markdown",
   "metadata": {},
   "source": [
    "# *perfect num range*"
   ]
  },
  {
   "cell_type": "code",
   "execution_count": 13,
   "metadata": {},
   "outputs": [
    {
     "name": "stdout",
     "output_type": "stream",
     "text": [
      "enter lb value1\n",
      "enter ub value100\n",
      "6\n",
      "28\n"
     ]
    }
   ],
   "source": [
    "lb=int(input(\"enter lb value\"))\n",
    "ub=int(input(\"enter ub value\"))\n",
    "s=0\n",
    "def findfactor(n,s):\n",
    "    for i in range(1,n):\n",
    "            if n%i==0:\n",
    "                s=s+i\n",
    "    if s==n:\n",
    "        print(n)\n",
    "for k in range(lb,ub+1):\n",
    "    findfactor(k,s)"
   ]
  },
  {
   "cell_type": "markdown",
   "metadata": {},
   "source": [
    "## *prime num in a range*"
   ]
  },
  {
   "cell_type": "code",
   "execution_count": 2,
   "metadata": {},
   "outputs": [
    {
     "name": "stdout",
     "output_type": "stream",
     "text": [
      "enter lb value1\n",
      "enter ub value100\n",
      "2\n",
      "3\n",
      "5\n",
      "7\n",
      "11\n",
      "13\n",
      "17\n",
      "19\n",
      "23\n",
      "29\n",
      "31\n",
      "37\n",
      "41\n",
      "43\n",
      "47\n",
      "53\n",
      "59\n",
      "61\n",
      "67\n",
      "71\n",
      "73\n",
      "79\n",
      "83\n",
      "89\n",
      "97\n"
     ]
    }
   ],
   "source": [
    "lb=int(input(\"enter lb value\"))\n",
    "ub=int(input(\"enter ub value\"))\n",
    "s=0\n",
    "def findfactor(n,s):\n",
    "    for i in range(1,n):\n",
    "        if n%i==0:\n",
    "            s=s+1\n",
    "    if s==1:\n",
    "        print(n)\n",
    "for k in range(lb,ub+1):\n",
    "    findfactor(k,s)"
   ]
  },
  {
   "cell_type": "code",
   "execution_count": null,
   "metadata": {},
   "outputs": [],
   "source": []
  }
 ],
 "metadata": {
  "kernelspec": {
   "display_name": "Python 3",
   "language": "python",
   "name": "python3"
  },
  "language_info": {
   "codemirror_mode": {
    "name": "ipython",
    "version": 3
   },
   "file_extension": ".py",
   "mimetype": "text/x-python",
   "name": "python",
   "nbconvert_exporter": "python",
   "pygments_lexer": "ipython3",
   "version": "3.7.3"
  }
 },
 "nbformat": 4,
 "nbformat_minor": 2
}
