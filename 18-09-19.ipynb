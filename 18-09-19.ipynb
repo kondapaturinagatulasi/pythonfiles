{
 "cells": [
  {
   "cell_type": "markdown",
   "metadata": {},
   "source": [
    "## *match sticks prblm*"
   ]
  },
  {
   "cell_type": "code",
   "execution_count": 10,
   "metadata": {},
   "outputs": [
    {
     "name": "stdout",
     "output_type": "stream",
     "text": [
      "enter the value167\n",
      "11\n"
     ]
    }
   ],
   "source": [
    "t={0:6,1:2,2:5,3:5,4:4,5:5,6:6,7:3,8:7,9:6}\n",
    "g=input(\"enter the value\")\n",
    "c=0\n",
    "for i in g:\n",
    "    c=c+t[int(i)]\n",
    "print(c)   "
   ]
  },
  {
   "cell_type": "markdown",
   "metadata": {},
   "source": [
    "## maze prblm"
   ]
  },
  {
   "cell_type": "code",
   "execution_count": 13,
   "metadata": {},
   "outputs": [
    {
     "name": "stdout",
     "output_type": "stream",
     "text": [
      "ludrdlruldrdrlldrulrdrrudrudr\n",
      "4 -3\n"
     ]
    }
   ],
   "source": [
    "t=input()\n",
    "x=0\n",
    "y=0\n",
    "for i in t:\n",
    "    if i=='l':\n",
    "        x=x-1\n",
    "    elif i=='r':\n",
    "        x=x+1\n",
    "    elif i=='u':\n",
    "        y=y+1\n",
    "    elif i=='d':\n",
    "        y=y-1\n",
    "print(x,y)        \n"
   ]
  },
  {
   "cell_type": "markdown",
   "metadata": {},
   "source": [
    "## files concept"
   ]
  },
  {
   "cell_type": "code",
   "execution_count": 16,
   "metadata": {},
   "outputs": [],
   "source": [
    "filepath=\"./Files/sample.txt\"\n",
    "with open(filepath,'w') as f:\n",
    "    f.write(\"this is my first line\")"
   ]
  },
  {
   "cell_type": "code",
   "execution_count": null,
   "metadata": {},
   "outputs": [],
   "source": []
  }
 ],
 "metadata": {
  "kernelspec": {
   "display_name": "Python 3",
   "language": "python",
   "name": "python3"
  },
  "language_info": {
   "codemirror_mode": {
    "name": "ipython",
    "version": 3
   },
   "file_extension": ".py",
   "mimetype": "text/x-python",
   "name": "python",
   "nbconvert_exporter": "python",
   "pygments_lexer": "ipython3",
   "version": "3.7.3"
  }
 },
 "nbformat": 4,
 "nbformat_minor": 2
}
